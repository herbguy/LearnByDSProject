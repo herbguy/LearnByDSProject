{
  "cells": [
    {
      "cell_type": "markdown",
      "metadata": {
        "id": "view-in-github",
        "colab_type": "text"
      },
      "source": [
        "<a href=\"https://colab.research.google.com/github/herbguy/LearnByDSProject/blob/main/04_week_mission_booster.ipynb\" target=\"_parent\"><img src=\"https://colab.research.google.com/assets/colab-badge.svg\" alt=\"Open In Colab\"/></a>"
      ]
    },
    {
      "cell_type": "code",
      "execution_count": 1,
      "metadata": {
        "colab": {
          "base_uri": "https://localhost:8080/",
          "height": 602
        },
        "id": "NOdkNU7S7k35",
        "outputId": "3366370d-0ef3-45ac-ba2b-64448671b5ef"
      },
      "outputs": [
        {
          "output_type": "error",
          "ename": "FileNotFoundError",
          "evalue": "[Errno 2] No such file or directory: 'train.csv'",
          "traceback": [
            "\u001b[0;31m---------------------------------------------------------------------------\u001b[0m",
            "\u001b[0;31mFileNotFoundError\u001b[0m                         Traceback (most recent call last)",
            "\u001b[0;32m<ipython-input-1-74de2044fb20>\u001b[0m in \u001b[0;36m<cell line: 6>\u001b[0;34m()\u001b[0m\n\u001b[1;32m      4\u001b[0m \u001b[0;32mimport\u001b[0m \u001b[0mmatplotlib\u001b[0m\u001b[0;34m.\u001b[0m\u001b[0mpyplot\u001b[0m \u001b[0;32mas\u001b[0m \u001b[0mplt\u001b[0m\u001b[0;34m\u001b[0m\u001b[0;34m\u001b[0m\u001b[0m\n\u001b[1;32m      5\u001b[0m \u001b[0;34m\u001b[0m\u001b[0m\n\u001b[0;32m----> 6\u001b[0;31m \u001b[0mdf_train\u001b[0m \u001b[0;34m=\u001b[0m \u001b[0mpd\u001b[0m\u001b[0;34m.\u001b[0m\u001b[0mread_csv\u001b[0m\u001b[0;34m(\u001b[0m\u001b[0;34m'train.csv'\u001b[0m\u001b[0;34m)\u001b[0m\u001b[0;34m\u001b[0m\u001b[0;34m\u001b[0m\u001b[0m\n\u001b[0m\u001b[1;32m      7\u001b[0m \u001b[0mdf_test\u001b[0m \u001b[0;34m=\u001b[0m \u001b[0mpd\u001b[0m\u001b[0;34m.\u001b[0m\u001b[0mread_csv\u001b[0m\u001b[0;34m(\u001b[0m\u001b[0;34m'test.csv'\u001b[0m\u001b[0;34m)\u001b[0m\u001b[0;34m\u001b[0m\u001b[0;34m\u001b[0m\u001b[0m\n\u001b[1;32m      8\u001b[0m \u001b[0mdf_rank\u001b[0m \u001b[0;34m=\u001b[0m \u001b[0mpd\u001b[0m\u001b[0;34m.\u001b[0m\u001b[0mread_csv\u001b[0m\u001b[0;34m(\u001b[0m\u001b[0;34m'sample_submission.csv'\u001b[0m\u001b[0;34m)\u001b[0m\u001b[0;34m\u001b[0m\u001b[0;34m\u001b[0m\u001b[0m\n",
            "\u001b[0;32m/usr/local/lib/python3.10/dist-packages/pandas/util/_decorators.py\u001b[0m in \u001b[0;36mwrapper\u001b[0;34m(*args, **kwargs)\u001b[0m\n\u001b[1;32m    209\u001b[0m                 \u001b[0;32melse\u001b[0m\u001b[0;34m:\u001b[0m\u001b[0;34m\u001b[0m\u001b[0;34m\u001b[0m\u001b[0m\n\u001b[1;32m    210\u001b[0m                     \u001b[0mkwargs\u001b[0m\u001b[0;34m[\u001b[0m\u001b[0mnew_arg_name\u001b[0m\u001b[0;34m]\u001b[0m \u001b[0;34m=\u001b[0m \u001b[0mnew_arg_value\u001b[0m\u001b[0;34m\u001b[0m\u001b[0;34m\u001b[0m\u001b[0m\n\u001b[0;32m--> 211\u001b[0;31m             \u001b[0;32mreturn\u001b[0m \u001b[0mfunc\u001b[0m\u001b[0;34m(\u001b[0m\u001b[0;34m*\u001b[0m\u001b[0margs\u001b[0m\u001b[0;34m,\u001b[0m \u001b[0;34m**\u001b[0m\u001b[0mkwargs\u001b[0m\u001b[0;34m)\u001b[0m\u001b[0;34m\u001b[0m\u001b[0;34m\u001b[0m\u001b[0m\n\u001b[0m\u001b[1;32m    212\u001b[0m \u001b[0;34m\u001b[0m\u001b[0m\n\u001b[1;32m    213\u001b[0m         \u001b[0;32mreturn\u001b[0m \u001b[0mcast\u001b[0m\u001b[0;34m(\u001b[0m\u001b[0mF\u001b[0m\u001b[0;34m,\u001b[0m \u001b[0mwrapper\u001b[0m\u001b[0;34m)\u001b[0m\u001b[0;34m\u001b[0m\u001b[0;34m\u001b[0m\u001b[0m\n",
            "\u001b[0;32m/usr/local/lib/python3.10/dist-packages/pandas/util/_decorators.py\u001b[0m in \u001b[0;36mwrapper\u001b[0;34m(*args, **kwargs)\u001b[0m\n\u001b[1;32m    329\u001b[0m                     \u001b[0mstacklevel\u001b[0m\u001b[0;34m=\u001b[0m\u001b[0mfind_stack_level\u001b[0m\u001b[0;34m(\u001b[0m\u001b[0;34m)\u001b[0m\u001b[0;34m,\u001b[0m\u001b[0;34m\u001b[0m\u001b[0;34m\u001b[0m\u001b[0m\n\u001b[1;32m    330\u001b[0m                 )\n\u001b[0;32m--> 331\u001b[0;31m             \u001b[0;32mreturn\u001b[0m \u001b[0mfunc\u001b[0m\u001b[0;34m(\u001b[0m\u001b[0;34m*\u001b[0m\u001b[0margs\u001b[0m\u001b[0;34m,\u001b[0m \u001b[0;34m**\u001b[0m\u001b[0mkwargs\u001b[0m\u001b[0;34m)\u001b[0m\u001b[0;34m\u001b[0m\u001b[0;34m\u001b[0m\u001b[0m\n\u001b[0m\u001b[1;32m    332\u001b[0m \u001b[0;34m\u001b[0m\u001b[0m\n\u001b[1;32m    333\u001b[0m         \u001b[0;31m# error: \"Callable[[VarArg(Any), KwArg(Any)], Any]\" has no\u001b[0m\u001b[0;34m\u001b[0m\u001b[0;34m\u001b[0m\u001b[0m\n",
            "\u001b[0;32m/usr/local/lib/python3.10/dist-packages/pandas/io/parsers/readers.py\u001b[0m in \u001b[0;36mread_csv\u001b[0;34m(filepath_or_buffer, sep, delimiter, header, names, index_col, usecols, squeeze, prefix, mangle_dupe_cols, dtype, engine, converters, true_values, false_values, skipinitialspace, skiprows, skipfooter, nrows, na_values, keep_default_na, na_filter, verbose, skip_blank_lines, parse_dates, infer_datetime_format, keep_date_col, date_parser, dayfirst, cache_dates, iterator, chunksize, compression, thousands, decimal, lineterminator, quotechar, quoting, doublequote, escapechar, comment, encoding, encoding_errors, dialect, error_bad_lines, warn_bad_lines, on_bad_lines, delim_whitespace, low_memory, memory_map, float_precision, storage_options)\u001b[0m\n\u001b[1;32m    948\u001b[0m     \u001b[0mkwds\u001b[0m\u001b[0;34m.\u001b[0m\u001b[0mupdate\u001b[0m\u001b[0;34m(\u001b[0m\u001b[0mkwds_defaults\u001b[0m\u001b[0;34m)\u001b[0m\u001b[0;34m\u001b[0m\u001b[0;34m\u001b[0m\u001b[0m\n\u001b[1;32m    949\u001b[0m \u001b[0;34m\u001b[0m\u001b[0m\n\u001b[0;32m--> 950\u001b[0;31m     \u001b[0;32mreturn\u001b[0m \u001b[0m_read\u001b[0m\u001b[0;34m(\u001b[0m\u001b[0mfilepath_or_buffer\u001b[0m\u001b[0;34m,\u001b[0m \u001b[0mkwds\u001b[0m\u001b[0;34m)\u001b[0m\u001b[0;34m\u001b[0m\u001b[0;34m\u001b[0m\u001b[0m\n\u001b[0m\u001b[1;32m    951\u001b[0m \u001b[0;34m\u001b[0m\u001b[0m\n\u001b[1;32m    952\u001b[0m \u001b[0;34m\u001b[0m\u001b[0m\n",
            "\u001b[0;32m/usr/local/lib/python3.10/dist-packages/pandas/io/parsers/readers.py\u001b[0m in \u001b[0;36m_read\u001b[0;34m(filepath_or_buffer, kwds)\u001b[0m\n\u001b[1;32m    603\u001b[0m \u001b[0;34m\u001b[0m\u001b[0m\n\u001b[1;32m    604\u001b[0m     \u001b[0;31m# Create the parser.\u001b[0m\u001b[0;34m\u001b[0m\u001b[0;34m\u001b[0m\u001b[0m\n\u001b[0;32m--> 605\u001b[0;31m     \u001b[0mparser\u001b[0m \u001b[0;34m=\u001b[0m \u001b[0mTextFileReader\u001b[0m\u001b[0;34m(\u001b[0m\u001b[0mfilepath_or_buffer\u001b[0m\u001b[0;34m,\u001b[0m \u001b[0;34m**\u001b[0m\u001b[0mkwds\u001b[0m\u001b[0;34m)\u001b[0m\u001b[0;34m\u001b[0m\u001b[0;34m\u001b[0m\u001b[0m\n\u001b[0m\u001b[1;32m    606\u001b[0m \u001b[0;34m\u001b[0m\u001b[0m\n\u001b[1;32m    607\u001b[0m     \u001b[0;32mif\u001b[0m \u001b[0mchunksize\u001b[0m \u001b[0;32mor\u001b[0m \u001b[0miterator\u001b[0m\u001b[0;34m:\u001b[0m\u001b[0;34m\u001b[0m\u001b[0;34m\u001b[0m\u001b[0m\n",
            "\u001b[0;32m/usr/local/lib/python3.10/dist-packages/pandas/io/parsers/readers.py\u001b[0m in \u001b[0;36m__init__\u001b[0;34m(self, f, engine, **kwds)\u001b[0m\n\u001b[1;32m   1440\u001b[0m \u001b[0;34m\u001b[0m\u001b[0m\n\u001b[1;32m   1441\u001b[0m         \u001b[0mself\u001b[0m\u001b[0;34m.\u001b[0m\u001b[0mhandles\u001b[0m\u001b[0;34m:\u001b[0m \u001b[0mIOHandles\u001b[0m \u001b[0;34m|\u001b[0m \u001b[0;32mNone\u001b[0m \u001b[0;34m=\u001b[0m \u001b[0;32mNone\u001b[0m\u001b[0;34m\u001b[0m\u001b[0;34m\u001b[0m\u001b[0m\n\u001b[0;32m-> 1442\u001b[0;31m         \u001b[0mself\u001b[0m\u001b[0;34m.\u001b[0m\u001b[0m_engine\u001b[0m \u001b[0;34m=\u001b[0m \u001b[0mself\u001b[0m\u001b[0;34m.\u001b[0m\u001b[0m_make_engine\u001b[0m\u001b[0;34m(\u001b[0m\u001b[0mf\u001b[0m\u001b[0;34m,\u001b[0m \u001b[0mself\u001b[0m\u001b[0;34m.\u001b[0m\u001b[0mengine\u001b[0m\u001b[0;34m)\u001b[0m\u001b[0;34m\u001b[0m\u001b[0;34m\u001b[0m\u001b[0m\n\u001b[0m\u001b[1;32m   1443\u001b[0m \u001b[0;34m\u001b[0m\u001b[0m\n\u001b[1;32m   1444\u001b[0m     \u001b[0;32mdef\u001b[0m \u001b[0mclose\u001b[0m\u001b[0;34m(\u001b[0m\u001b[0mself\u001b[0m\u001b[0;34m)\u001b[0m \u001b[0;34m->\u001b[0m \u001b[0;32mNone\u001b[0m\u001b[0;34m:\u001b[0m\u001b[0;34m\u001b[0m\u001b[0;34m\u001b[0m\u001b[0m\n",
            "\u001b[0;32m/usr/local/lib/python3.10/dist-packages/pandas/io/parsers/readers.py\u001b[0m in \u001b[0;36m_make_engine\u001b[0;34m(self, f, engine)\u001b[0m\n\u001b[1;32m   1733\u001b[0m                 \u001b[0;32mif\u001b[0m \u001b[0;34m\"b\"\u001b[0m \u001b[0;32mnot\u001b[0m \u001b[0;32min\u001b[0m \u001b[0mmode\u001b[0m\u001b[0;34m:\u001b[0m\u001b[0;34m\u001b[0m\u001b[0;34m\u001b[0m\u001b[0m\n\u001b[1;32m   1734\u001b[0m                     \u001b[0mmode\u001b[0m \u001b[0;34m+=\u001b[0m \u001b[0;34m\"b\"\u001b[0m\u001b[0;34m\u001b[0m\u001b[0;34m\u001b[0m\u001b[0m\n\u001b[0;32m-> 1735\u001b[0;31m             self.handles = get_handle(\n\u001b[0m\u001b[1;32m   1736\u001b[0m                 \u001b[0mf\u001b[0m\u001b[0;34m,\u001b[0m\u001b[0;34m\u001b[0m\u001b[0;34m\u001b[0m\u001b[0m\n\u001b[1;32m   1737\u001b[0m                 \u001b[0mmode\u001b[0m\u001b[0;34m,\u001b[0m\u001b[0;34m\u001b[0m\u001b[0;34m\u001b[0m\u001b[0m\n",
            "\u001b[0;32m/usr/local/lib/python3.10/dist-packages/pandas/io/common.py\u001b[0m in \u001b[0;36mget_handle\u001b[0;34m(path_or_buf, mode, encoding, compression, memory_map, is_text, errors, storage_options)\u001b[0m\n\u001b[1;32m    854\u001b[0m         \u001b[0;32mif\u001b[0m \u001b[0mioargs\u001b[0m\u001b[0;34m.\u001b[0m\u001b[0mencoding\u001b[0m \u001b[0;32mand\u001b[0m \u001b[0;34m\"b\"\u001b[0m \u001b[0;32mnot\u001b[0m \u001b[0;32min\u001b[0m \u001b[0mioargs\u001b[0m\u001b[0;34m.\u001b[0m\u001b[0mmode\u001b[0m\u001b[0;34m:\u001b[0m\u001b[0;34m\u001b[0m\u001b[0;34m\u001b[0m\u001b[0m\n\u001b[1;32m    855\u001b[0m             \u001b[0;31m# Encoding\u001b[0m\u001b[0;34m\u001b[0m\u001b[0;34m\u001b[0m\u001b[0m\n\u001b[0;32m--> 856\u001b[0;31m             handle = open(\n\u001b[0m\u001b[1;32m    857\u001b[0m                 \u001b[0mhandle\u001b[0m\u001b[0;34m,\u001b[0m\u001b[0;34m\u001b[0m\u001b[0;34m\u001b[0m\u001b[0m\n\u001b[1;32m    858\u001b[0m                 \u001b[0mioargs\u001b[0m\u001b[0;34m.\u001b[0m\u001b[0mmode\u001b[0m\u001b[0;34m,\u001b[0m\u001b[0;34m\u001b[0m\u001b[0;34m\u001b[0m\u001b[0m\n",
            "\u001b[0;31mFileNotFoundError\u001b[0m: [Errno 2] No such file or directory: 'train.csv'"
          ]
        }
      ],
      "source": [
        "import pandas as pd\n",
        "import numpy as np\n",
        "import seaborn as sns\n",
        "import matplotlib.pyplot as plt\n",
        "\n",
        "df_train = pd.read_csv('train.csv')\n",
        "df_test = pd.read_csv('test.csv')\n",
        "df_rank = pd.read_csv('sample_submission.csv')\n",
        "print(df_train.shape)\n",
        "print(df_test.shape)\n"
      ]
    },
    {
      "cell_type": "code",
      "execution_count": null,
      "metadata": {
        "id": "c_3Suv_77k3_"
      },
      "outputs": [],
      "source": [
        "import matplotlib.font_manager as fm\n",
        "\n",
        "# 설치된 폰트 중 '나눔고딕'을 찾아서 그 경로를 가져옵니다.\n",
        "font_path = fm.findfont(fm.FontProperties(family='AppleGothic'))\n",
        "\n",
        "# 가져온 경로를 matplotlib의 폰트로 설정합니다.\n",
        "plt.rcParams['font.family'] = 'AppleGothic'\n",
        "\n",
        "# 필요한 경우, 폰트 사이즈도 변경할 수 있습니다.\n",
        "plt.rcParams['font.size'] = 12"
      ]
    },
    {
      "cell_type": "code",
      "execution_count": null,
      "metadata": {
        "id": "2AHDtc0f7k3_",
        "outputId": "c02f8a55-325d-444d-b00a-0d2ff2f3a1d6"
      },
      "outputs": [
        {
          "data": {
            "text/html": [
              "<div>\n",
              "<style scoped>\n",
              "    .dataframe tbody tr th:only-of-type {\n",
              "        vertical-align: middle;\n",
              "    }\n",
              "\n",
              "    .dataframe tbody tr th {\n",
              "        vertical-align: top;\n",
              "    }\n",
              "\n",
              "    .dataframe thead th {\n",
              "        text-align: right;\n",
              "    }\n",
              "</style>\n",
              "<table border=\"1\" class=\"dataframe\">\n",
              "  <thead>\n",
              "    <tr style=\"text-align: right;\">\n",
              "      <th></th>\n",
              "      <th>ID</th>\n",
              "      <th>대출금액</th>\n",
              "      <th>대출기간</th>\n",
              "      <th>근로기간</th>\n",
              "      <th>주택소유상태</th>\n",
              "      <th>연간소득</th>\n",
              "      <th>부채_대비_소득_비율</th>\n",
              "      <th>총계좌수</th>\n",
              "      <th>대출목적</th>\n",
              "      <th>최근_2년간_연체_횟수</th>\n",
              "      <th>총상환원금</th>\n",
              "      <th>총상환이자</th>\n",
              "      <th>총연체금액</th>\n",
              "      <th>연체계좌수</th>\n",
              "      <th>대출등급</th>\n",
              "    </tr>\n",
              "  </thead>\n",
              "  <tbody>\n",
              "    <tr>\n",
              "      <th>0</th>\n",
              "      <td>TRAIN_00000</td>\n",
              "      <td>12480000</td>\n",
              "      <td>36 months</td>\n",
              "      <td>6 years</td>\n",
              "      <td>RENT</td>\n",
              "      <td>72000000</td>\n",
              "      <td>18.90</td>\n",
              "      <td>15</td>\n",
              "      <td>부채 통합</td>\n",
              "      <td>0</td>\n",
              "      <td>0</td>\n",
              "      <td>0.0</td>\n",
              "      <td>0.0</td>\n",
              "      <td>0.0</td>\n",
              "      <td>C</td>\n",
              "    </tr>\n",
              "    <tr>\n",
              "      <th>1</th>\n",
              "      <td>TRAIN_00001</td>\n",
              "      <td>14400000</td>\n",
              "      <td>60 months</td>\n",
              "      <td>10+ years</td>\n",
              "      <td>MORTGAGE</td>\n",
              "      <td>130800000</td>\n",
              "      <td>22.33</td>\n",
              "      <td>21</td>\n",
              "      <td>주택 개선</td>\n",
              "      <td>0</td>\n",
              "      <td>373572</td>\n",
              "      <td>234060.0</td>\n",
              "      <td>0.0</td>\n",
              "      <td>0.0</td>\n",
              "      <td>B</td>\n",
              "    </tr>\n",
              "    <tr>\n",
              "      <th>2</th>\n",
              "      <td>TRAIN_00002</td>\n",
              "      <td>12000000</td>\n",
              "      <td>36 months</td>\n",
              "      <td>5 years</td>\n",
              "      <td>MORTGAGE</td>\n",
              "      <td>96000000</td>\n",
              "      <td>8.60</td>\n",
              "      <td>14</td>\n",
              "      <td>부채 통합</td>\n",
              "      <td>0</td>\n",
              "      <td>928644</td>\n",
              "      <td>151944.0</td>\n",
              "      <td>0.0</td>\n",
              "      <td>0.0</td>\n",
              "      <td>A</td>\n",
              "    </tr>\n",
              "    <tr>\n",
              "      <th>3</th>\n",
              "      <td>TRAIN_00003</td>\n",
              "      <td>14400000</td>\n",
              "      <td>36 months</td>\n",
              "      <td>8 years</td>\n",
              "      <td>MORTGAGE</td>\n",
              "      <td>132000000</td>\n",
              "      <td>15.09</td>\n",
              "      <td>15</td>\n",
              "      <td>부채 통합</td>\n",
              "      <td>0</td>\n",
              "      <td>325824</td>\n",
              "      <td>153108.0</td>\n",
              "      <td>0.0</td>\n",
              "      <td>0.0</td>\n",
              "      <td>C</td>\n",
              "    </tr>\n",
              "    <tr>\n",
              "      <th>4</th>\n",
              "      <td>TRAIN_00004</td>\n",
              "      <td>18000000</td>\n",
              "      <td>60 months</td>\n",
              "      <td>Unknown</td>\n",
              "      <td>RENT</td>\n",
              "      <td>71736000</td>\n",
              "      <td>25.39</td>\n",
              "      <td>19</td>\n",
              "      <td>주요 구매</td>\n",
              "      <td>0</td>\n",
              "      <td>228540</td>\n",
              "      <td>148956.0</td>\n",
              "      <td>0.0</td>\n",
              "      <td>0.0</td>\n",
              "      <td>B</td>\n",
              "    </tr>\n",
              "  </tbody>\n",
              "</table>\n",
              "</div>"
            ],
            "text/plain": [
              "            ID      대출금액        대출기간       근로기간    주택소유상태       연간소득  \\\n",
              "0  TRAIN_00000  12480000   36 months    6 years      RENT   72000000   \n",
              "1  TRAIN_00001  14400000   60 months  10+ years  MORTGAGE  130800000   \n",
              "2  TRAIN_00002  12000000   36 months    5 years  MORTGAGE   96000000   \n",
              "3  TRAIN_00003  14400000   36 months    8 years  MORTGAGE  132000000   \n",
              "4  TRAIN_00004  18000000   60 months    Unknown      RENT   71736000   \n",
              "\n",
              "   부채_대비_소득_비율  총계좌수   대출목적  최근_2년간_연체_횟수   총상환원금     총상환이자  총연체금액  연체계좌수 대출등급  \n",
              "0        18.90    15  부채 통합             0       0       0.0    0.0    0.0    C  \n",
              "1        22.33    21  주택 개선             0  373572  234060.0    0.0    0.0    B  \n",
              "2         8.60    14  부채 통합             0  928644  151944.0    0.0    0.0    A  \n",
              "3        15.09    15  부채 통합             0  325824  153108.0    0.0    0.0    C  \n",
              "4        25.39    19  주요 구매             0  228540  148956.0    0.0    0.0    B  "
            ]
          },
          "execution_count": 320,
          "metadata": {},
          "output_type": "execute_result"
        }
      ],
      "source": [
        "df_train.head()"
      ]
    },
    {
      "cell_type": "code",
      "execution_count": null,
      "metadata": {
        "id": "dWeE2R7Z7k4A",
        "outputId": "ced176bc-dea7-4955-da58-2627f637a5ce"
      },
      "outputs": [
        {
          "name": "stdout",
          "output_type": "stream",
          "text": [
            "대출기간:  [' 36 months' ' 60 months']\n",
            "근로기간:  ['6 years' '10+ years' '5 years' '8 years' 'Unknown' '9 years' '2 years'\n",
            " '1 year' '3 years' '7 years' '4 years' '< 1 year' '10+years' '<1 year'\n",
            " '3' '1 years']\n",
            "주택소유상태:  ['RENT' 'MORTGAGE' 'OWN' 'ANY']\n",
            "대출목적:  ['부채 통합' '주택 개선' '주요 구매' '휴가' '의료' '자동차' '신용 카드' '소규모 사업' '기타' '이사' '주택'\n",
            " '재생 에너지']\n"
          ]
        }
      ],
      "source": [
        "print('대출기간: ', df_train['대출기간'].unique())\n",
        "print('근로기간: ', df_train['근로기간'].unique())\n",
        "print('주택소유상태: ', df_train['주택소유상태'].unique())\n",
        "print('대출목적: ', df_train['대출목적'].unique())"
      ]
    },
    {
      "cell_type": "code",
      "execution_count": null,
      "metadata": {
        "id": "rMvuYVK_7k4A",
        "outputId": "ec48cde2-ca33-4078-9313-d4b94d85ad06"
      },
      "outputs": [
        {
          "name": "stdout",
          "output_type": "stream",
          "text": [
            "근로기간:  ['6 years' '10+ years' '5 years' '8 years' '9 years' '2 years' '1 year'\n",
            " '3 years' '7 years' '4 years' '< 1 year' '10+years' '<1 year' '3'\n",
            " '1 years']\n"
          ]
        }
      ],
      "source": [
        "df_train = df_train[df_train['근로기간']!='Unknown']\n",
        "df_test = df_test[df_test['근로기간']!='Unknown']\n",
        "print('근로기간: ', df_train['근로기간'].unique())"
      ]
    },
    {
      "cell_type": "code",
      "execution_count": null,
      "metadata": {
        "id": "_sQy3bZD7k4B"
      },
      "outputs": [],
      "source": [
        "df_train[\"근로기간\"] = df_train[\"근로기간\"].replace(\"6 years\", 6)\n",
        "df_train[\"근로기간\"] = df_train[\"근로기간\"].replace(\"10+ years\", 10)\n",
        "df_train[\"근로기간\"] = df_train[\"근로기간\"].replace(\"5 years\", 5)\n",
        "df_train[\"근로기간\"] = df_train[\"근로기간\"].replace(\"8 years\", 8)\n",
        "df_train[\"근로기간\"] = df_train[\"근로기간\"].replace(\"9 years\", 9)\n",
        "df_train[\"근로기간\"] = df_train[\"근로기간\"].replace(\"2 years\", 2)\n",
        "df_train[\"근로기간\"] = df_train[\"근로기간\"].replace(\"1 year\", 1)\n",
        "df_train[\"근로기간\"] = df_train[\"근로기간\"].replace(\"3 years\", 3)\n",
        "df_train[\"근로기간\"] = df_train[\"근로기간\"].replace(\"7 years\", 7)\n",
        "df_train[\"근로기간\"] = df_train[\"근로기간\"].replace(\"4 years\", 4)\n",
        "df_train[\"근로기간\"] = df_train[\"근로기간\"].replace(\"10+years\", 10)\n",
        "df_train[\"근로기간\"] = df_train[\"근로기간\"].replace(\"<1 year\", 1)\n",
        "df_train[\"근로기간\"] = df_train[\"근로기간\"].replace(\"1 years\", 1)\n",
        "df_train[\"근로기간\"] = df_train[\"근로기간\"].replace(\"< 1 year\", 1)\n",
        "df_train[\"근로기간\"] = df_train[\"근로기간\"].replace(\"3\", 3)\n",
        "\n",
        "df_train[\"대출기간\"] = df_train[\"대출기간\"].replace(\" 36 months\", 36)\n",
        "df_train[\"대출기간\"] = df_train[\"대출기간\"].replace(\" 60 months\", 60)\n",
        "\n",
        "df_test[\"근로기간\"] = df_test[\"근로기간\"].replace(\"6 years\", 6)\n",
        "df_test[\"근로기간\"] = df_test[\"근로기간\"].replace(\"10+ years\", 10)\n",
        "df_test[\"근로기간\"] = df_test[\"근로기간\"].replace(\"5 years\", 5)\n",
        "df_test[\"근로기간\"] = df_test[\"근로기간\"].replace(\"8 years\", 8)\n",
        "df_test[\"근로기간\"] = df_test[\"근로기간\"].replace(\"9 years\", 9)\n",
        "df_test[\"근로기간\"] = df_test[\"근로기간\"].replace(\"2 years\", 2)\n",
        "df_test[\"근로기간\"] = df_test[\"근로기간\"].replace(\"1 year\", 1)\n",
        "df_test[\"근로기간\"] = df_test[\"근로기간\"].replace(\"3 years\", 3)\n",
        "df_test[\"근로기간\"] = df_test[\"근로기간\"].replace(\"7 years\", 7)\n",
        "df_test[\"근로기간\"] = df_test[\"근로기간\"].replace(\"4 years\", 4)\n",
        "df_test[\"근로기간\"] = df_test[\"근로기간\"].replace(\"10+years\", 10)\n",
        "df_test[\"근로기간\"] = df_test[\"근로기간\"].replace(\"<1 year\", 1)\n",
        "df_test[\"근로기간\"] = df_test[\"근로기간\"].replace(\"1 years\", 1)\n",
        "df_test[\"근로기간\"] = df_test[\"근로기간\"].replace(\"< 1 year\", 1)\n",
        "df_test[\"근로기간\"] = df_test[\"근로기간\"].replace(\"3\", 3)\n",
        "\n",
        "df_test[\"대출기간\"] = df_test[\"대출기간\"].replace(\" 36 months\", 36)\n",
        "df_test[\"대출기간\"] = df_test[\"대출기간\"].replace(\" 60 months\", 60)"
      ]
    },
    {
      "cell_type": "code",
      "execution_count": null,
      "metadata": {
        "id": "_dpid-6a7k4C",
        "outputId": "55ceddbf-e16e-407e-e667-0eff32fd9a5d"
      },
      "outputs": [
        {
          "name": "stdout",
          "output_type": "stream",
          "text": [
            "60335\n"
          ]
        }
      ],
      "source": [
        "print(len(df_test))"
      ]
    },
    {
      "cell_type": "code",
      "execution_count": null,
      "metadata": {
        "id": "XcAY5bwV7k4C",
        "outputId": "de457b78-c9d5-4506-abee-f0e6bf885dee"
      },
      "outputs": [
        {
          "data": {
            "text/html": [
              "<div>\n",
              "<style scoped>\n",
              "    .dataframe tbody tr th:only-of-type {\n",
              "        vertical-align: middle;\n",
              "    }\n",
              "\n",
              "    .dataframe tbody tr th {\n",
              "        vertical-align: top;\n",
              "    }\n",
              "\n",
              "    .dataframe thead th {\n",
              "        text-align: right;\n",
              "    }\n",
              "</style>\n",
              "<table border=\"1\" class=\"dataframe\">\n",
              "  <thead>\n",
              "    <tr style=\"text-align: right;\">\n",
              "      <th></th>\n",
              "      <th>ID</th>\n",
              "      <th>대출금액</th>\n",
              "      <th>대출기간</th>\n",
              "      <th>근로기간</th>\n",
              "      <th>주택소유상태</th>\n",
              "      <th>연간소득</th>\n",
              "      <th>부채_대비_소득_비율</th>\n",
              "      <th>총계좌수</th>\n",
              "      <th>대출목적</th>\n",
              "      <th>최근_2년간_연체_횟수</th>\n",
              "      <th>총상환원금</th>\n",
              "      <th>총상환이자</th>\n",
              "      <th>총연체금액</th>\n",
              "      <th>연체계좌수</th>\n",
              "      <th>대출등급</th>\n",
              "    </tr>\n",
              "  </thead>\n",
              "  <tbody>\n",
              "    <tr>\n",
              "      <th>0</th>\n",
              "      <td>TRAIN_00000</td>\n",
              "      <td>12480000</td>\n",
              "      <td>36</td>\n",
              "      <td>6</td>\n",
              "      <td>RENT</td>\n",
              "      <td>72000000</td>\n",
              "      <td>18.90</td>\n",
              "      <td>15</td>\n",
              "      <td>부채 통합</td>\n",
              "      <td>0</td>\n",
              "      <td>0</td>\n",
              "      <td>0.0</td>\n",
              "      <td>0.0</td>\n",
              "      <td>0.0</td>\n",
              "      <td>C</td>\n",
              "    </tr>\n",
              "    <tr>\n",
              "      <th>1</th>\n",
              "      <td>TRAIN_00001</td>\n",
              "      <td>14400000</td>\n",
              "      <td>60</td>\n",
              "      <td>10</td>\n",
              "      <td>MORTGAGE</td>\n",
              "      <td>130800000</td>\n",
              "      <td>22.33</td>\n",
              "      <td>21</td>\n",
              "      <td>주택 개선</td>\n",
              "      <td>0</td>\n",
              "      <td>373572</td>\n",
              "      <td>234060.0</td>\n",
              "      <td>0.0</td>\n",
              "      <td>0.0</td>\n",
              "      <td>B</td>\n",
              "    </tr>\n",
              "    <tr>\n",
              "      <th>2</th>\n",
              "      <td>TRAIN_00002</td>\n",
              "      <td>12000000</td>\n",
              "      <td>36</td>\n",
              "      <td>5</td>\n",
              "      <td>MORTGAGE</td>\n",
              "      <td>96000000</td>\n",
              "      <td>8.60</td>\n",
              "      <td>14</td>\n",
              "      <td>부채 통합</td>\n",
              "      <td>0</td>\n",
              "      <td>928644</td>\n",
              "      <td>151944.0</td>\n",
              "      <td>0.0</td>\n",
              "      <td>0.0</td>\n",
              "      <td>A</td>\n",
              "    </tr>\n",
              "    <tr>\n",
              "      <th>3</th>\n",
              "      <td>TRAIN_00003</td>\n",
              "      <td>14400000</td>\n",
              "      <td>36</td>\n",
              "      <td>8</td>\n",
              "      <td>MORTGAGE</td>\n",
              "      <td>132000000</td>\n",
              "      <td>15.09</td>\n",
              "      <td>15</td>\n",
              "      <td>부채 통합</td>\n",
              "      <td>0</td>\n",
              "      <td>325824</td>\n",
              "      <td>153108.0</td>\n",
              "      <td>0.0</td>\n",
              "      <td>0.0</td>\n",
              "      <td>C</td>\n",
              "    </tr>\n",
              "    <tr>\n",
              "      <th>5</th>\n",
              "      <td>TRAIN_00005</td>\n",
              "      <td>4800000</td>\n",
              "      <td>36</td>\n",
              "      <td>10</td>\n",
              "      <td>RENT</td>\n",
              "      <td>84000000</td>\n",
              "      <td>13.78</td>\n",
              "      <td>30</td>\n",
              "      <td>휴가</td>\n",
              "      <td>0</td>\n",
              "      <td>240216</td>\n",
              "      <td>55428.0</td>\n",
              "      <td>0.0</td>\n",
              "      <td>0.0</td>\n",
              "      <td>A</td>\n",
              "    </tr>\n",
              "  </tbody>\n",
              "</table>\n",
              "</div>"
            ],
            "text/plain": [
              "            ID      대출금액  대출기간  근로기간    주택소유상태       연간소득  부채_대비_소득_비율  총계좌수  \\\n",
              "0  TRAIN_00000  12480000    36     6      RENT   72000000        18.90    15   \n",
              "1  TRAIN_00001  14400000    60    10  MORTGAGE  130800000        22.33    21   \n",
              "2  TRAIN_00002  12000000    36     5  MORTGAGE   96000000         8.60    14   \n",
              "3  TRAIN_00003  14400000    36     8  MORTGAGE  132000000        15.09    15   \n",
              "5  TRAIN_00005   4800000    36    10      RENT   84000000        13.78    30   \n",
              "\n",
              "    대출목적  최근_2년간_연체_횟수   총상환원금     총상환이자  총연체금액  연체계좌수 대출등급  \n",
              "0  부채 통합             0       0       0.0    0.0    0.0    C  \n",
              "1  주택 개선             0  373572  234060.0    0.0    0.0    B  \n",
              "2  부채 통합             0  928644  151944.0    0.0    0.0    A  \n",
              "3  부채 통합             0  325824  153108.0    0.0    0.0    C  \n",
              "5     휴가             0  240216   55428.0    0.0    0.0    A  "
            ]
          },
          "execution_count": 325,
          "metadata": {},
          "output_type": "execute_result"
        }
      ],
      "source": [
        "df_train.head()"
      ]
    },
    {
      "cell_type": "code",
      "execution_count": null,
      "metadata": {
        "id": "9_1-DDS-7k4D",
        "outputId": "2acfa036-e488-4c72-9aea-0a17352ae67e"
      },
      "outputs": [
        {
          "data": {
            "text/html": [
              "<div>\n",
              "<style scoped>\n",
              "    .dataframe tbody tr th:only-of-type {\n",
              "        vertical-align: middle;\n",
              "    }\n",
              "\n",
              "    .dataframe tbody tr th {\n",
              "        vertical-align: top;\n",
              "    }\n",
              "\n",
              "    .dataframe thead th {\n",
              "        text-align: right;\n",
              "    }\n",
              "</style>\n",
              "<table border=\"1\" class=\"dataframe\">\n",
              "  <thead>\n",
              "    <tr style=\"text-align: right;\">\n",
              "      <th></th>\n",
              "      <th>ID</th>\n",
              "      <th>대출금액</th>\n",
              "      <th>대출기간</th>\n",
              "      <th>근로기간</th>\n",
              "      <th>주택소유상태</th>\n",
              "      <th>연간소득</th>\n",
              "      <th>부채_대비_소득_비율</th>\n",
              "      <th>총계좌수</th>\n",
              "      <th>대출목적</th>\n",
              "      <th>최근_2년간_연체_횟수</th>\n",
              "      <th>총상환원금</th>\n",
              "      <th>총상환이자</th>\n",
              "      <th>총연체금액</th>\n",
              "      <th>연체계좌수</th>\n",
              "      <th>대출등급</th>\n",
              "    </tr>\n",
              "  </thead>\n",
              "  <tbody>\n",
              "    <tr>\n",
              "      <th>0</th>\n",
              "      <td>False</td>\n",
              "      <td>False</td>\n",
              "      <td>False</td>\n",
              "      <td>False</td>\n",
              "      <td>False</td>\n",
              "      <td>False</td>\n",
              "      <td>False</td>\n",
              "      <td>False</td>\n",
              "      <td>False</td>\n",
              "      <td>False</td>\n",
              "      <td>False</td>\n",
              "      <td>False</td>\n",
              "      <td>False</td>\n",
              "      <td>False</td>\n",
              "      <td>False</td>\n",
              "    </tr>\n",
              "    <tr>\n",
              "      <th>1</th>\n",
              "      <td>False</td>\n",
              "      <td>False</td>\n",
              "      <td>False</td>\n",
              "      <td>False</td>\n",
              "      <td>False</td>\n",
              "      <td>False</td>\n",
              "      <td>False</td>\n",
              "      <td>False</td>\n",
              "      <td>False</td>\n",
              "      <td>False</td>\n",
              "      <td>False</td>\n",
              "      <td>False</td>\n",
              "      <td>False</td>\n",
              "      <td>False</td>\n",
              "      <td>False</td>\n",
              "    </tr>\n",
              "    <tr>\n",
              "      <th>2</th>\n",
              "      <td>False</td>\n",
              "      <td>False</td>\n",
              "      <td>False</td>\n",
              "      <td>False</td>\n",
              "      <td>False</td>\n",
              "      <td>False</td>\n",
              "      <td>False</td>\n",
              "      <td>False</td>\n",
              "      <td>False</td>\n",
              "      <td>False</td>\n",
              "      <td>False</td>\n",
              "      <td>False</td>\n",
              "      <td>False</td>\n",
              "      <td>False</td>\n",
              "      <td>False</td>\n",
              "    </tr>\n",
              "    <tr>\n",
              "      <th>3</th>\n",
              "      <td>False</td>\n",
              "      <td>False</td>\n",
              "      <td>False</td>\n",
              "      <td>False</td>\n",
              "      <td>False</td>\n",
              "      <td>False</td>\n",
              "      <td>False</td>\n",
              "      <td>False</td>\n",
              "      <td>False</td>\n",
              "      <td>False</td>\n",
              "      <td>False</td>\n",
              "      <td>False</td>\n",
              "      <td>False</td>\n",
              "      <td>False</td>\n",
              "      <td>False</td>\n",
              "    </tr>\n",
              "    <tr>\n",
              "      <th>5</th>\n",
              "      <td>False</td>\n",
              "      <td>False</td>\n",
              "      <td>False</td>\n",
              "      <td>False</td>\n",
              "      <td>False</td>\n",
              "      <td>False</td>\n",
              "      <td>False</td>\n",
              "      <td>False</td>\n",
              "      <td>False</td>\n",
              "      <td>False</td>\n",
              "      <td>False</td>\n",
              "      <td>False</td>\n",
              "      <td>False</td>\n",
              "      <td>False</td>\n",
              "      <td>False</td>\n",
              "    </tr>\n",
              "  </tbody>\n",
              "</table>\n",
              "</div>"
            ],
            "text/plain": [
              "      ID   대출금액   대출기간   근로기간  주택소유상태   연간소득  부채_대비_소득_비율   총계좌수   대출목적  \\\n",
              "0  False  False  False  False   False  False        False  False  False   \n",
              "1  False  False  False  False   False  False        False  False  False   \n",
              "2  False  False  False  False   False  False        False  False  False   \n",
              "3  False  False  False  False   False  False        False  False  False   \n",
              "5  False  False  False  False   False  False        False  False  False   \n",
              "\n",
              "   최근_2년간_연체_횟수  총상환원금  총상환이자  총연체금액  연체계좌수   대출등급  \n",
              "0         False  False  False  False  False  False  \n",
              "1         False  False  False  False  False  False  \n",
              "2         False  False  False  False  False  False  \n",
              "3         False  False  False  False  False  False  \n",
              "5         False  False  False  False  False  False  "
            ]
          },
          "execution_count": 326,
          "metadata": {},
          "output_type": "execute_result"
        }
      ],
      "source": [
        "df_null = df_train.isnull() # True/False 값으로 결측치 확인\n",
        "df_null.head()"
      ]
    },
    {
      "cell_type": "code",
      "execution_count": null,
      "metadata": {
        "id": "Q4ImRfYp7k4D",
        "outputId": "45e4ab72-8284-411c-b221-030205aa60d8"
      },
      "outputs": [
        {
          "data": {
            "text/plain": [
              "ID              0\n",
              "대출금액            0\n",
              "대출기간            0\n",
              "근로기간            0\n",
              "주택소유상태          0\n",
              "연간소득            0\n",
              "부채_대비_소득_비율     0\n",
              "총계좌수            0\n",
              "대출목적            0\n",
              "최근_2년간_연체_횟수    0\n",
              "총상환원금           0\n",
              "총상환이자           0\n",
              "총연체금액           0\n",
              "연체계좌수           0\n",
              "대출등급            0\n",
              "dtype: int64"
            ]
          },
          "execution_count": 327,
          "metadata": {},
          "output_type": "execute_result"
        }
      ],
      "source": [
        "df_null.sum()"
      ]
    },
    {
      "cell_type": "code",
      "execution_count": null,
      "metadata": {
        "id": "hiC6E0-87k4E",
        "outputId": "3c03b0f1-e7ee-4a6d-8afb-1676b730a71d"
      },
      "outputs": [
        {
          "data": {
            "text/html": [
              "<div>\n",
              "<style scoped>\n",
              "    .dataframe tbody tr th:only-of-type {\n",
              "        vertical-align: middle;\n",
              "    }\n",
              "\n",
              "    .dataframe tbody tr th {\n",
              "        vertical-align: top;\n",
              "    }\n",
              "\n",
              "    .dataframe thead th {\n",
              "        text-align: right;\n",
              "    }\n",
              "</style>\n",
              "<table border=\"1\" class=\"dataframe\">\n",
              "  <thead>\n",
              "    <tr style=\"text-align: right;\">\n",
              "      <th></th>\n",
              "      <th>대출금액</th>\n",
              "      <th>대출기간</th>\n",
              "      <th>근로기간</th>\n",
              "      <th>연간소득</th>\n",
              "      <th>부채_대비_소득_비율</th>\n",
              "      <th>총계좌수</th>\n",
              "      <th>최근_2년간_연체_횟수</th>\n",
              "      <th>총상환원금</th>\n",
              "      <th>총상환이자</th>\n",
              "      <th>총연체금액</th>\n",
              "      <th>연체계좌수</th>\n",
              "    </tr>\n",
              "  </thead>\n",
              "  <tbody>\n",
              "    <tr>\n",
              "      <th>count</th>\n",
              "      <td>9.062300e+04</td>\n",
              "      <td>90623.000000</td>\n",
              "      <td>90623.000000</td>\n",
              "      <td>9.062300e+04</td>\n",
              "      <td>90623.000000</td>\n",
              "      <td>90623.000000</td>\n",
              "      <td>90623.000000</td>\n",
              "      <td>9.062300e+04</td>\n",
              "      <td>9.062300e+04</td>\n",
              "      <td>90623.000000</td>\n",
              "      <td>90623.000000</td>\n",
              "    </tr>\n",
              "    <tr>\n",
              "      <th>mean</th>\n",
              "      <td>1.856741e+07</td>\n",
              "      <td>44.115291</td>\n",
              "      <td>6.097657</td>\n",
              "      <td>9.602653e+07</td>\n",
              "      <td>19.170749</td>\n",
              "      <td>25.392119</td>\n",
              "      <td>0.349735</td>\n",
              "      <td>8.326541e+05</td>\n",
              "      <td>4.350714e+05</td>\n",
              "      <td>53.536078</td>\n",
              "      <td>0.005915</td>\n",
              "    </tr>\n",
              "    <tr>\n",
              "      <th>std</th>\n",
              "      <td>1.035141e+07</td>\n",
              "      <td>11.353874</td>\n",
              "      <td>3.592182</td>\n",
              "      <td>1.018085e+08</td>\n",
              "      <td>8.669904</td>\n",
              "      <td>12.109055</td>\n",
              "      <td>0.925710</td>\n",
              "      <td>1.042277e+06</td>\n",
              "      <td>4.441825e+05</td>\n",
              "      <td>1396.603298</td>\n",
              "      <td>0.080745</td>\n",
              "    </tr>\n",
              "    <tr>\n",
              "      <th>min</th>\n",
              "      <td>1.200000e+06</td>\n",
              "      <td>36.000000</td>\n",
              "      <td>1.000000</td>\n",
              "      <td>6.432000e+06</td>\n",
              "      <td>0.000000</td>\n",
              "      <td>4.000000</td>\n",
              "      <td>0.000000</td>\n",
              "      <td>0.000000e+00</td>\n",
              "      <td>0.000000e+00</td>\n",
              "      <td>0.000000</td>\n",
              "      <td>0.000000</td>\n",
              "    </tr>\n",
              "    <tr>\n",
              "      <th>25%</th>\n",
              "      <td>1.080000e+07</td>\n",
              "      <td>36.000000</td>\n",
              "      <td>2.000000</td>\n",
              "      <td>5.880000e+07</td>\n",
              "      <td>12.600000</td>\n",
              "      <td>17.000000</td>\n",
              "      <td>0.000000</td>\n",
              "      <td>3.126360e+05</td>\n",
              "      <td>1.378380e+05</td>\n",
              "      <td>0.000000</td>\n",
              "      <td>0.000000</td>\n",
              "    </tr>\n",
              "    <tr>\n",
              "      <th>50%</th>\n",
              "      <td>1.728000e+07</td>\n",
              "      <td>36.000000</td>\n",
              "      <td>6.000000</td>\n",
              "      <td>8.160000e+07</td>\n",
              "      <td>18.630000</td>\n",
              "      <td>24.000000</td>\n",
              "      <td>0.000000</td>\n",
              "      <td>6.047280e+05</td>\n",
              "      <td>2.934120e+05</td>\n",
              "      <td>0.000000</td>\n",
              "      <td>0.000000</td>\n",
              "    </tr>\n",
              "    <tr>\n",
              "      <th>75%</th>\n",
              "      <td>2.448000e+07</td>\n",
              "      <td>60.000000</td>\n",
              "      <td>10.000000</td>\n",
              "      <td>1.140000e+08</td>\n",
              "      <td>25.410000</td>\n",
              "      <td>32.000000</td>\n",
              "      <td>0.000000</td>\n",
              "      <td>1.067496e+06</td>\n",
              "      <td>5.794080e+05</td>\n",
              "      <td>0.000000</td>\n",
              "      <td>0.000000</td>\n",
              "    </tr>\n",
              "    <tr>\n",
              "      <th>max</th>\n",
              "      <td>4.200000e+07</td>\n",
              "      <td>60.000000</td>\n",
              "      <td>10.000000</td>\n",
              "      <td>1.080000e+10</td>\n",
              "      <td>100.090000</td>\n",
              "      <td>169.000000</td>\n",
              "      <td>30.000000</td>\n",
              "      <td>4.195594e+07</td>\n",
              "      <td>5.653416e+06</td>\n",
              "      <td>75768.000000</td>\n",
              "      <td>4.000000</td>\n",
              "    </tr>\n",
              "  </tbody>\n",
              "</table>\n",
              "</div>"
            ],
            "text/plain": [
              "               대출금액          대출기간          근로기간          연간소득   부채_대비_소득_비율  \\\n",
              "count  9.062300e+04  90623.000000  90623.000000  9.062300e+04  90623.000000   \n",
              "mean   1.856741e+07     44.115291      6.097657  9.602653e+07     19.170749   \n",
              "std    1.035141e+07     11.353874      3.592182  1.018085e+08      8.669904   \n",
              "min    1.200000e+06     36.000000      1.000000  6.432000e+06      0.000000   \n",
              "25%    1.080000e+07     36.000000      2.000000  5.880000e+07     12.600000   \n",
              "50%    1.728000e+07     36.000000      6.000000  8.160000e+07     18.630000   \n",
              "75%    2.448000e+07     60.000000     10.000000  1.140000e+08     25.410000   \n",
              "max    4.200000e+07     60.000000     10.000000  1.080000e+10    100.090000   \n",
              "\n",
              "               총계좌수  최근_2년간_연체_횟수         총상환원금         총상환이자         총연체금액  \\\n",
              "count  90623.000000  90623.000000  9.062300e+04  9.062300e+04  90623.000000   \n",
              "mean      25.392119      0.349735  8.326541e+05  4.350714e+05     53.536078   \n",
              "std       12.109055      0.925710  1.042277e+06  4.441825e+05   1396.603298   \n",
              "min        4.000000      0.000000  0.000000e+00  0.000000e+00      0.000000   \n",
              "25%       17.000000      0.000000  3.126360e+05  1.378380e+05      0.000000   \n",
              "50%       24.000000      0.000000  6.047280e+05  2.934120e+05      0.000000   \n",
              "75%       32.000000      0.000000  1.067496e+06  5.794080e+05      0.000000   \n",
              "max      169.000000     30.000000  4.195594e+07  5.653416e+06  75768.000000   \n",
              "\n",
              "              연체계좌수  \n",
              "count  90623.000000  \n",
              "mean       0.005915  \n",
              "std        0.080745  \n",
              "min        0.000000  \n",
              "25%        0.000000  \n",
              "50%        0.000000  \n",
              "75%        0.000000  \n",
              "max        4.000000  "
            ]
          },
          "execution_count": 328,
          "metadata": {},
          "output_type": "execute_result"
        }
      ],
      "source": [
        "df_train.describe()"
      ]
    },
    {
      "cell_type": "code",
      "execution_count": null,
      "metadata": {
        "id": "UxI07F127k4E"
      },
      "outputs": [],
      "source": [
        "feature_columns = df_train.columns[:-1].tolist()"
      ]
    },
    {
      "cell_type": "code",
      "execution_count": null,
      "metadata": {
        "id": "hcf392Q77k4E",
        "outputId": "02194e19-ba30-4e3e-ca59-eaf71e6d22a6"
      },
      "outputs": [
        {
          "data": {
            "text/plain": [
              "대출등급\n",
              "B    27075\n",
              "C    25995\n",
              "A    15838\n",
              "D    12482\n",
              "E     6976\n",
              "F     1862\n",
              "G      395\n",
              "Name: count, dtype: int64"
            ]
          },
          "execution_count": 330,
          "metadata": {},
          "output_type": "execute_result"
        }
      ],
      "source": [
        "df_train['대출등급'].value_counts()"
      ]
    },
    {
      "cell_type": "code",
      "execution_count": null,
      "metadata": {
        "id": "rSnXxOdM7k4F",
        "outputId": "4122b082-336d-42b5-bb55-46564d0493bb"
      },
      "outputs": [
        {
          "data": {
            "text/plain": [
              "대출등급\n",
              "B    29.876521\n",
              "C    28.684771\n",
              "A    17.476799\n",
              "D    13.773545\n",
              "E     7.697825\n",
              "F     2.054666\n",
              "G     0.435872\n",
              "Name: proportion, dtype: float64"
            ]
          },
          "execution_count": 331,
          "metadata": {},
          "output_type": "execute_result"
        }
      ],
      "source": [
        "df_train['대출등급'].value_counts(normalize=True) * 100"
      ]
    },
    {
      "cell_type": "code",
      "execution_count": null,
      "metadata": {
        "id": "c_TD_rvg7k4F",
        "outputId": "156a6570-6146-4063-95e8-deb139ecf35e"
      },
      "outputs": [
        {
          "data": {
            "text/plain": [
              "<AxesSubplot:xlabel='대출등급', ylabel='count'>"
            ]
          },
          "execution_count": 332,
          "metadata": {},
          "output_type": "execute_result"
        },
        {
          "name": "stderr",
          "output_type": "stream",
          "text": [
            "/Users/minwoo/Library/Python/3.11/lib/python/site-packages/IPython/core/pylabtools.py:152: MatplotlibDeprecationWarning: savefig() got unexpected keyword argument \"orientation\" which is no longer supported as of 3.3 and will become an error two minor releases later\n",
            "  fig.canvas.print_figure(bytes_io, **kw)\n",
            "/Users/minwoo/Library/Python/3.11/lib/python/site-packages/IPython/core/pylabtools.py:152: MatplotlibDeprecationWarning: savefig() got unexpected keyword argument \"dpi\" which is no longer supported as of 3.3 and will become an error two minor releases later\n",
            "  fig.canvas.print_figure(bytes_io, **kw)\n",
            "/Users/minwoo/Library/Python/3.11/lib/python/site-packages/IPython/core/pylabtools.py:152: MatplotlibDeprecationWarning: savefig() got unexpected keyword argument \"facecolor\" which is no longer supported as of 3.3 and will become an error two minor releases later\n",
            "  fig.canvas.print_figure(bytes_io, **kw)\n",
            "/Users/minwoo/Library/Python/3.11/lib/python/site-packages/IPython/core/pylabtools.py:152: MatplotlibDeprecationWarning: savefig() got unexpected keyword argument \"edgecolor\" which is no longer supported as of 3.3 and will become an error two minor releases later\n",
            "  fig.canvas.print_figure(bytes_io, **kw)\n",
            "/Users/minwoo/Library/Python/3.11/lib/python/site-packages/IPython/core/pylabtools.py:152: MatplotlibDeprecationWarning: savefig() got unexpected keyword argument \"bbox_inches_restore\" which is no longer supported as of 3.3 and will become an error two minor releases later\n",
            "  fig.canvas.print_figure(bytes_io, **kw)\n"
          ]
        },
        {
          "data": {
            "image/png": "[encoded data removed]",
            "text/plain": [
              "<Figure size 640x480 with 1 Axes>"
            ]
          },
          "metadata": {},
          "output_type": "display_data"
        }
      ],
      "source": [
        "sns.countplot(data=df_train, x='대출등급')"
      ]
    },
    {
      "cell_type": "code",
      "execution_count": null,
      "metadata": {
        "id": "T7asMFJ_7k4F",
        "outputId": "58919d42-18d7-42f7-c044-4722dac6caf5"
      },
      "outputs": [
        {
          "data": {
            "text/plain": [
              "Index(['ID', '대출금액', '대출기간', '근로기간', '주택소유상태', '연간소득', '부채_대비_소득_비율', '총계좌수',\n",
              "       '대출목적', '최근_2년간_연체_횟수', '총상환원금', '총상환이자', '총연체금액', '연체계좌수', '대출등급'],\n",
              "      dtype='object')"
            ]
          },
          "execution_count": 333,
          "metadata": {},
          "output_type": "execute_result"
        }
      ],
      "source": [
        "df_train.columns"
      ]
    },
    {
      "cell_type": "code",
      "execution_count": null,
      "metadata": {
        "id": "1xhm0mqH7k4F",
        "outputId": "9121896a-43a0-42be-842e-b486b1df5a3f"
      },
      "outputs": [
        {
          "data": {
            "text/plain": [
              "Index(['ID', '대출금액', '대출기간', '근로기간', '주택소유상태', '연간소득', '부채_대비_소득_비율', '총계좌수',\n",
              "       '대출목적', '최근_2년간_연체_횟수', '총상환원금', '총상환이자', '총연체금액', '연체계좌수'],\n",
              "      dtype='object')"
            ]
          },
          "execution_count": 334,
          "metadata": {},
          "output_type": "execute_result"
        }
      ],
      "source": [
        "df_test.columns"
      ]
    },
    {
      "cell_type": "code",
      "execution_count": null,
      "metadata": {
        "id": "dNTwGIKP7k4G",
        "outputId": "79a7b6bc-b5da-43b7-8ef8-ba0f73cdb099"
      },
      "outputs": [
        {
          "name": "stdout",
          "output_type": "stream",
          "text": [
            "90623\n",
            "60335\n"
          ]
        }
      ],
      "source": [
        "X_train = df_train[['대출금액', '대출기간', '근로기간','연간소득', '부채_대비_소득_비율', '총계좌수',\n",
        "       '최근_2년간_연체_횟수', '총상환원금', '총상환이자', '총연체금액', '연체계좌수']]\n",
        "y_train = df_train['대출등급']\n",
        "\n",
        "X_test = df_test[['대출금액', '대출기간', '근로기간','연간소득', '부채_대비_소득_비율', '총계좌수',\n",
        "       '최근_2년간_연체_횟수', '총상환원금', '총상환이자', '총연체금액', '연체계좌수']]\n",
        "y_test = df_rank['대출등급']\n",
        "\n",
        "print(len(df_train))\n",
        "print(len(df_test))"
      ]
    },
    {
      "cell_type": "code",
      "execution_count": null,
      "metadata": {
        "id": "HOeZNAmT7k4G",
        "outputId": "1f13dd1a-e05d-4f93-d47d-f9e81e721459"
      },
      "outputs": [
        {
          "data": {
            "text/html": [
              "<style>#sk-container-id-1 {color: black;}#sk-container-id-1 pre{padding: 0;}#sk-container-id-1 div.sk-toggleable {background-color: white;}#sk-container-id-1 label.sk-toggleable__label {cursor: pointer;display: block;width: 100%;margin-bottom: 0;padding: 0.3em;box-sizing: border-box;text-align: center;}#sk-container-id-1 label.sk-toggleable__label-arrow:before {content: \"▸\";float: left;margin-right: 0.25em;color: #696969;}#sk-container-id-1 label.sk-toggleable__label-arrow:hover:before {color: black;}#sk-container-id-1 div.sk-estimator:hover label.sk-toggleable__label-arrow:before {color: black;}#sk-container-id-1 div.sk-toggleable__content {max-height: 0;max-width: 0;overflow: hidden;text-align: left;background-color: #f0f8ff;}#sk-container-id-1 div.sk-toggleable__content pre {margin: 0.2em;color: black;border-radius: 0.25em;background-color: #f0f8ff;}#sk-container-id-1 input.sk-toggleable__control:checked~div.sk-toggleable__content {max-height: 200px;max-width: 100%;overflow: auto;}#sk-container-id-1 input.sk-toggleable__control:checked~label.sk-toggleable__label-arrow:before {content: \"▾\";}#sk-container-id-1 div.sk-estimator input.sk-toggleable__control:checked~label.sk-toggleable__label {background-color: #d4ebff;}#sk-container-id-1 div.sk-label input.sk-toggleable__control:checked~label.sk-toggleable__label {background-color: #d4ebff;}#sk-container-id-1 input.sk-hidden--visually {border: 0;clip: rect(1px 1px 1px 1px);clip: rect(1px, 1px, 1px, 1px);height: 1px;margin: -1px;overflow: hidden;padding: 0;position: absolute;width: 1px;}#sk-container-id-1 div.sk-estimator {font-family: monospace;background-color: #f0f8ff;border: 1px dotted black;border-radius: 0.25em;box-sizing: border-box;margin-bottom: 0.5em;}#sk-container-id-1 div.sk-estimator:hover {background-color: #d4ebff;}#sk-container-id-1 div.sk-parallel-item::after {content: \"\";width: 100%;border-bottom: 1px solid gray;flex-grow: 1;}#sk-container-id-1 div.sk-label:hover label.sk-toggleable__label {background-color: #d4ebff;}#sk-container-id-1 div.sk-serial::before {content: \"\";position: absolute;border-left: 1px solid gray;box-sizing: border-box;top: 0;bottom: 0;left: 50%;z-index: 0;}#sk-container-id-1 div.sk-serial {display: flex;flex-direction: column;align-items: center;background-color: white;padding-right: 0.2em;padding-left: 0.2em;position: relative;}#sk-container-id-1 div.sk-item {position: relative;z-index: 1;}#sk-container-id-1 div.sk-parallel {display: flex;align-items: stretch;justify-content: center;background-color: white;position: relative;}#sk-container-id-1 div.sk-item::before, #sk-container-id-1 div.sk-parallel-item::before {content: \"\";position: absolute;border-left: 1px solid gray;box-sizing: border-box;top: 0;bottom: 0;left: 50%;z-index: -1;}#sk-container-id-1 div.sk-parallel-item {display: flex;flex-direction: column;z-index: 1;position: relative;background-color: white;}#sk-container-id-1 div.sk-parallel-item:first-child::after {align-self: flex-end;width: 50%;}#sk-container-id-1 div.sk-parallel-item:last-child::after {align-self: flex-start;width: 50%;}#sk-container-id-1 div.sk-parallel-item:only-child::after {width: 0;}#sk-container-id-1 div.sk-dashed-wrapped {border: 1px dashed gray;margin: 0 0.4em 0.5em 0.4em;box-sizing: border-box;padding-bottom: 0.4em;background-color: white;}#sk-container-id-1 div.sk-label label {font-family: monospace;font-weight: bold;display: inline-block;line-height: 1.2em;}#sk-container-id-1 div.sk-label-container {text-align: center;}#sk-container-id-1 div.sk-container {/* jupyter's `normalize.less` sets `[hidden] { display: none; }` but bootstrap.min.css set `[hidden] { display: none !important; }` so we also need the `!important` here to be able to override the default hidden behavior on the sphinx rendered scikit-learn.org. See: https://github.com/scikit-learn/scikit-learn/issues/21755 */display: inline-block !important;position: relative;}#sk-container-id-1 div.sk-text-repr-fallback {display: none;}</style><div id=\"sk-container-id-1\" class=\"sk-top-container\"><div class=\"sk-text-repr-fallback\"><pre>GradientBoostingClassifier(random_state=42)</pre><b>In a Jupyter environment, please rerun this cell to show the HTML representation or trust the notebook. <br />On GitHub, the HTML representation is unable to render, please try loading this page with nbviewer.org.</b></div><div class=\"sk-container\" hidden><div class=\"sk-item\"><div class=\"sk-estimator sk-toggleable\"><input class=\"sk-toggleable__control sk-hidden--visually\" id=\"sk-estimator-id-1\" type=\"checkbox\" checked><label for=\"sk-estimator-id-1\" class=\"sk-toggleable__label sk-toggleable__label-arrow\">GradientBoostingClassifier</label><div class=\"sk-toggleable__content\"><pre>GradientBoostingClassifier(random_state=42)</pre></div></div></div></div></div>"
            ],
            "text/plain": [
              "GradientBoostingClassifier(random_state=42)"
            ]
          },
          "execution_count": 341,
          "metadata": {},
          "output_type": "execute_result"
        }
      ],
      "source": [
        "from sklearn.ensemble import GradientBoostingClassifier\n",
        "\n",
        "model = GradientBoostingClassifier(random_state=42)\n",
        "model"
      ]
    },
    {
      "cell_type": "code",
      "execution_count": null,
      "metadata": {
        "id": "fp4Doojd7k4G",
        "outputId": "9dbb2a68-0422-4f4b-8e57-595715287e9a"
      },
      "outputs": [
        {
          "data": {
            "text/plain": [
              "array(['B', 'B', 'A', 'C', 'C'], dtype=object)"
            ]
          },
          "execution_count": 342,
          "metadata": {},
          "output_type": "execute_result"
        }
      ],
      "source": [
        "y_predict = model.fit(X_train, y_train).predict(X_test)\n"
      ]
    },
    {
      "cell_type": "code",
      "execution_count": null,
      "metadata": {
        "id": "dMCsLiSA7k4G"
      },
      "outputs": [],
      "source": [
        "# y_test와 y_predict를 데이터프레임으로 변환\n",
        "df_predict = pd.DataFrame({'ID': df_test['ID'], '대출등급': y_predict})\n",
        "\n",
        "# df_predict를 y_rank에 병합\n",
        "df_rank = pd.merge(df_rank, df_predict, on='ID', how='left')"
      ]
    },
    {
      "cell_type": "code",
      "execution_count": null,
      "metadata": {
        "id": "P1qdXT1C7k4H",
        "outputId": "6ddfeb76-98af-4af8-dbf3-4a3bba9d48fc"
      },
      "outputs": [
        {
          "data": {
            "text/html": [
              "<div>\n",
              "<style scoped>\n",
              "    .dataframe tbody tr th:only-of-type {\n",
              "        vertical-align: middle;\n",
              "    }\n",
              "\n",
              "    .dataframe tbody tr th {\n",
              "        vertical-align: top;\n",
              "    }\n",
              "\n",
              "    .dataframe thead th {\n",
              "        text-align: right;\n",
              "    }\n",
              "</style>\n",
              "<table border=\"1\" class=\"dataframe\">\n",
              "  <thead>\n",
              "    <tr style=\"text-align: right;\">\n",
              "      <th></th>\n",
              "      <th>ID</th>\n",
              "      <th>대출등급_x</th>\n",
              "      <th>대출등급_y</th>\n",
              "    </tr>\n",
              "  </thead>\n",
              "  <tbody>\n",
              "    <tr>\n",
              "      <th>0</th>\n",
              "      <td>TEST_00000</td>\n",
              "      <td>G</td>\n",
              "      <td>B</td>\n",
              "    </tr>\n",
              "    <tr>\n",
              "      <th>1</th>\n",
              "      <td>TEST_00001</td>\n",
              "      <td>G</td>\n",
              "      <td>B</td>\n",
              "    </tr>\n",
              "    <tr>\n",
              "      <th>2</th>\n",
              "      <td>TEST_00002</td>\n",
              "      <td>G</td>\n",
              "      <td>A</td>\n",
              "    </tr>\n",
              "    <tr>\n",
              "      <th>3</th>\n",
              "      <td>TEST_00003</td>\n",
              "      <td>G</td>\n",
              "      <td>C</td>\n",
              "    </tr>\n",
              "    <tr>\n",
              "      <th>4</th>\n",
              "      <td>TEST_00004</td>\n",
              "      <td>G</td>\n",
              "      <td>C</td>\n",
              "    </tr>\n",
              "    <tr>\n",
              "      <th>...</th>\n",
              "      <td>...</td>\n",
              "      <td>...</td>\n",
              "      <td>...</td>\n",
              "    </tr>\n",
              "    <tr>\n",
              "      <th>64192</th>\n",
              "      <td>TEST_64192</td>\n",
              "      <td>G</td>\n",
              "      <td>C</td>\n",
              "    </tr>\n",
              "    <tr>\n",
              "      <th>64193</th>\n",
              "      <td>TEST_64193</td>\n",
              "      <td>G</td>\n",
              "      <td>D</td>\n",
              "    </tr>\n",
              "    <tr>\n",
              "      <th>64194</th>\n",
              "      <td>TEST_64194</td>\n",
              "      <td>G</td>\n",
              "      <td>D</td>\n",
              "    </tr>\n",
              "    <tr>\n",
              "      <th>64195</th>\n",
              "      <td>TEST_64195</td>\n",
              "      <td>G</td>\n",
              "      <td>C</td>\n",
              "    </tr>\n",
              "    <tr>\n",
              "      <th>64196</th>\n",
              "      <td>TEST_64196</td>\n",
              "      <td>G</td>\n",
              "      <td>A</td>\n",
              "    </tr>\n",
              "  </tbody>\n",
              "</table>\n",
              "<p>64197 rows × 3 columns</p>\n",
              "</div>"
            ],
            "text/plain": [
              "               ID 대출등급_x 대출등급_y\n",
              "0      TEST_00000      G      B\n",
              "1      TEST_00001      G      B\n",
              "2      TEST_00002      G      A\n",
              "3      TEST_00003      G      C\n",
              "4      TEST_00004      G      C\n",
              "...           ...    ...    ...\n",
              "64192  TEST_64192      G      C\n",
              "64193  TEST_64193      G      D\n",
              "64194  TEST_64194      G      D\n",
              "64195  TEST_64195      G      C\n",
              "64196  TEST_64196      G      A\n",
              "\n",
              "[64197 rows x 3 columns]"
            ]
          },
          "execution_count": 345,
          "metadata": {},
          "output_type": "execute_result"
        }
      ],
      "source": [
        "df_rank"
      ]
    }
  ],
  "metadata": {
    "kernelspec": {
      "display_name": "Python 3",
      "language": "python",
      "name": "python3"
    },
    "language_info": {
      "codemirror_mode": {
        "name": "ipython",
        "version": 3
      },
      "file_extension": ".py",
      "mimetype": "text/x-python",
      "name": "python",
      "nbconvert_exporter": "python",
      "pygments_lexer": "ipython3",
      "version": "3.11.6"
    },
    "colab": {
      "provenance": [],
      "include_colab_link": true
    }
  },
  "nbformat": 4,
  "nbformat_minor": 0
}